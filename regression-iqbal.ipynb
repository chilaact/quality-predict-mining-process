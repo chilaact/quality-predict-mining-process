{
  "nbformat": 4,
  "nbformat_minor": 0,
  "metadata": {
    "colab": {
      "name": "regression.ipynb",
      "provenance": [],
      "collapsed_sections": [],
      "toc_visible": true,
      "include_colab_link": true
    },
    "kernelspec": {
      "name": "python3",
      "display_name": "Python 3"
    }
  },
  "cells": [
    {
      "cell_type": "markdown",
      "metadata": {
        "id": "view-in-github",
        "colab_type": "text"
      },
      "source": [
        "<a href=\"https://colab.research.google.com/github/chilaact/quality-predict-mining-process/blob/master/regression-iqbal.ipynb\" target=\"_parent\"><img src=\"https://colab.research.google.com/assets/colab-badge.svg\" alt=\"Open In Colab\"/></a>"
      ]
    },
    {
      "cell_type": "code",
      "metadata": {
        "id": "ga565jIITS5n",
        "colab_type": "code",
        "outputId": "3bb72b32-af21-46b6-a5ab-bb1834ecae83",
        "colab": {
          "base_uri": "https://localhost:8080/",
          "height": 34
        }
      },
      "source": [
        "# Use seaborn for pairplot\n",
        "!pip install -q seaborn\n",
        "\n",
        "# Use some functions from tensorflow_docs\n",
        "!pip install -q git+https://github.com/tensorflow/docs"
      ],
      "execution_count": 0,
      "outputs": [
        {
          "output_type": "stream",
          "text": [
            "  Building wheel for tensorflow-docs (setup.py) ... \u001b[?25l\u001b[?25hdone\n"
          ],
          "name": "stdout"
        }
      ]
    },
    {
      "cell_type": "code",
      "metadata": {
        "id": "I0EFYUFCq4Aw",
        "colab_type": "code",
        "colab": {}
      },
      "source": [
        "# Importing some useful modules\n",
        "\n",
        "from __future__ import absolute_import, division, print_function, unicode_literals\n",
        "\n",
        "import pathlib\n",
        "\n",
        "import matplotlib.pyplot as plt\n",
        "import pandas as pd\n",
        "import numpy as np\n",
        "import seaborn as sns"
      ],
      "execution_count": 0,
      "outputs": []
    },
    {
      "cell_type": "code",
      "metadata": {
        "id": "YSly2eHCpwrB",
        "colab_type": "code",
        "outputId": "194e2eb1-4e03-4f75-f97e-6584cd3b0f17",
        "colab": {
          "base_uri": "https://localhost:8080/",
          "height": 122
        }
      },
      "source": [
        "from google.colab import drive\n",
        "drive.mount('/content/drive')"
      ],
      "execution_count": 0,
      "outputs": [
        {
          "output_type": "stream",
          "text": [
            "Go to this URL in a browser: https://accounts.google.com/o/oauth2/auth?client_id=947318989803-6bn6qk8qdgf4n4g3pfee6491hc0brc4i.apps.googleusercontent.com&redirect_uri=urn%3aietf%3awg%3aoauth%3a2.0%3aoob&response_type=code&scope=email%20https%3a%2f%2fwww.googleapis.com%2fauth%2fdocs.test%20https%3a%2f%2fwww.googleapis.com%2fauth%2fdrive%20https%3a%2f%2fwww.googleapis.com%2fauth%2fdrive.photos.readonly%20https%3a%2f%2fwww.googleapis.com%2fauth%2fpeopleapi.readonly\n",
            "\n",
            "Enter your authorization code:\n",
            "··········\n",
            "Mounted at /content/drive\n"
          ],
          "name": "stdout"
        }
      ]
    },
    {
      "cell_type": "code",
      "metadata": {
        "id": "TpoLaZVyUGhQ",
        "colab_type": "code",
        "outputId": "79838779-7469-4c0d-d9f0-350fcfbcf194",
        "colab": {
          "base_uri": "https://localhost:8080/",
          "height": 51
        }
      },
      "source": [
        "#Importing TensorFlow 2.x\n",
        "\n",
        "%tensorflow_version 2.x\n",
        "\n",
        "import tensorflow as tf\n",
        "\n",
        "from tensorflow import keras\n",
        "from tensorflow.keras import layers\n",
        "\n",
        "print(tf.__version__)"
      ],
      "execution_count": 0,
      "outputs": [
        {
          "output_type": "stream",
          "text": [
            "TensorFlow 2.x selected.\n",
            "2.1.0\n"
          ],
          "name": "stdout"
        }
      ]
    },
    {
      "cell_type": "code",
      "metadata": {
        "id": "5ejjAHITV4Oa",
        "colab_type": "code",
        "colab": {}
      },
      "source": [
        "import tensorflow_docs as tfdocs\n",
        "import tensorflow_docs.plots\n",
        "import tensorflow_docs.modeling"
      ],
      "execution_count": 0,
      "outputs": []
    },
    {
      "cell_type": "code",
      "metadata": {
        "id": "PqtDyoPpjH6i",
        "colab_type": "code",
        "outputId": "e9afd936-99bb-44fc-eb47-6b9a964da8b9",
        "colab": {
          "base_uri": "https://localhost:8080/",
          "height": 34
        }
      },
      "source": [
        "#Linking Drive to Colab\n",
        "from google.colab import drive\n",
        "drive.mount('/content/drive/')"
      ],
      "execution_count": 0,
      "outputs": [
        {
          "output_type": "stream",
          "text": [
            "Drive already mounted at /content/drive/; to attempt to forcibly remount, call drive.mount(\"/content/drive/\", force_remount=True).\n"
          ],
          "name": "stdout"
        }
      ]
    },
    {
      "cell_type": "code",
      "metadata": {
        "id": "QEfCmGPha2_8",
        "colab_type": "code",
        "colab": {}
      },
      "source": [
        "#Load the Data\n",
        "data = pd.read_csv(\"/content/drive/My Drive/Quality_Prediction/MiningProcess_Flotation_Plant_Database.csv\",\n",
        "                   decimal=\",\",parse_dates=[\"date\"],infer_datetime_format=True).drop_duplicates()"
      ],
      "execution_count": 0,
      "outputs": []
    },
    {
      "cell_type": "code",
      "metadata": {
        "id": "Gdb6pkELbn2a",
        "colab_type": "code",
        "outputId": "f1df3fce-47f9-499b-ff2b-9995ff62af86",
        "colab": {
          "base_uri": "https://localhost:8080/",
          "height": 428
        }
      },
      "source": [
        "data.head()"
      ],
      "execution_count": 0,
      "outputs": [
        {
          "output_type": "execute_result",
          "data": {
            "text/html": [
              "<div>\n",
              "<style scoped>\n",
              "    .dataframe tbody tr th:only-of-type {\n",
              "        vertical-align: middle;\n",
              "    }\n",
              "\n",
              "    .dataframe tbody tr th {\n",
              "        vertical-align: top;\n",
              "    }\n",
              "\n",
              "    .dataframe thead th {\n",
              "        text-align: right;\n",
              "    }\n",
              "</style>\n",
              "<table border=\"1\" class=\"dataframe\">\n",
              "  <thead>\n",
              "    <tr style=\"text-align: right;\">\n",
              "      <th></th>\n",
              "      <th>date</th>\n",
              "      <th>% Iron Feed</th>\n",
              "      <th>% Silica Feed</th>\n",
              "      <th>Starch Flow</th>\n",
              "      <th>Amina Flow</th>\n",
              "      <th>Ore Pulp Flow</th>\n",
              "      <th>Ore Pulp pH</th>\n",
              "      <th>Ore Pulp Density</th>\n",
              "      <th>Flotation Column 01 Air Flow</th>\n",
              "      <th>Flotation Column 02 Air Flow</th>\n",
              "      <th>Flotation Column 03 Air Flow</th>\n",
              "      <th>Flotation Column 04 Air Flow</th>\n",
              "      <th>Flotation Column 05 Air Flow</th>\n",
              "      <th>Flotation Column 06 Air Flow</th>\n",
              "      <th>Flotation Column 07 Air Flow</th>\n",
              "      <th>Flotation Column 01 Level</th>\n",
              "      <th>Flotation Column 02 Level</th>\n",
              "      <th>Flotation Column 03 Level</th>\n",
              "      <th>Flotation Column 04 Level</th>\n",
              "      <th>Flotation Column 05 Level</th>\n",
              "      <th>Flotation Column 06 Level</th>\n",
              "      <th>Flotation Column 07 Level</th>\n",
              "      <th>% Iron Concentrate</th>\n",
              "      <th>% Silica Concentrate</th>\n",
              "    </tr>\n",
              "  </thead>\n",
              "  <tbody>\n",
              "    <tr>\n",
              "      <th>0</th>\n",
              "      <td>2017-03-10 01:00:00</td>\n",
              "      <td>55.2</td>\n",
              "      <td>16.98</td>\n",
              "      <td>3019.53</td>\n",
              "      <td>557.434</td>\n",
              "      <td>395.713</td>\n",
              "      <td>10.0664</td>\n",
              "      <td>1.74</td>\n",
              "      <td>249.214</td>\n",
              "      <td>253.235</td>\n",
              "      <td>250.576</td>\n",
              "      <td>295.096</td>\n",
              "      <td>306.4</td>\n",
              "      <td>250.225</td>\n",
              "      <td>250.884</td>\n",
              "      <td>457.396</td>\n",
              "      <td>432.962</td>\n",
              "      <td>424.954</td>\n",
              "      <td>443.558</td>\n",
              "      <td>502.255</td>\n",
              "      <td>446.370</td>\n",
              "      <td>523.344</td>\n",
              "      <td>66.91</td>\n",
              "      <td>1.31</td>\n",
              "    </tr>\n",
              "    <tr>\n",
              "      <th>1</th>\n",
              "      <td>2017-03-10 01:00:00</td>\n",
              "      <td>55.2</td>\n",
              "      <td>16.98</td>\n",
              "      <td>3024.41</td>\n",
              "      <td>563.965</td>\n",
              "      <td>397.383</td>\n",
              "      <td>10.0672</td>\n",
              "      <td>1.74</td>\n",
              "      <td>249.719</td>\n",
              "      <td>250.532</td>\n",
              "      <td>250.862</td>\n",
              "      <td>295.096</td>\n",
              "      <td>306.4</td>\n",
              "      <td>250.137</td>\n",
              "      <td>248.994</td>\n",
              "      <td>451.891</td>\n",
              "      <td>429.560</td>\n",
              "      <td>432.939</td>\n",
              "      <td>448.086</td>\n",
              "      <td>496.363</td>\n",
              "      <td>445.922</td>\n",
              "      <td>498.075</td>\n",
              "      <td>66.91</td>\n",
              "      <td>1.31</td>\n",
              "    </tr>\n",
              "    <tr>\n",
              "      <th>2</th>\n",
              "      <td>2017-03-10 01:00:00</td>\n",
              "      <td>55.2</td>\n",
              "      <td>16.98</td>\n",
              "      <td>3043.46</td>\n",
              "      <td>568.054</td>\n",
              "      <td>399.668</td>\n",
              "      <td>10.0680</td>\n",
              "      <td>1.74</td>\n",
              "      <td>249.741</td>\n",
              "      <td>247.874</td>\n",
              "      <td>250.313</td>\n",
              "      <td>295.096</td>\n",
              "      <td>306.4</td>\n",
              "      <td>251.345</td>\n",
              "      <td>248.071</td>\n",
              "      <td>451.240</td>\n",
              "      <td>468.927</td>\n",
              "      <td>434.610</td>\n",
              "      <td>449.688</td>\n",
              "      <td>484.411</td>\n",
              "      <td>447.826</td>\n",
              "      <td>458.567</td>\n",
              "      <td>66.91</td>\n",
              "      <td>1.31</td>\n",
              "    </tr>\n",
              "    <tr>\n",
              "      <th>3</th>\n",
              "      <td>2017-03-10 01:00:00</td>\n",
              "      <td>55.2</td>\n",
              "      <td>16.98</td>\n",
              "      <td>3047.36</td>\n",
              "      <td>568.665</td>\n",
              "      <td>397.939</td>\n",
              "      <td>10.0689</td>\n",
              "      <td>1.74</td>\n",
              "      <td>249.917</td>\n",
              "      <td>254.487</td>\n",
              "      <td>250.049</td>\n",
              "      <td>295.096</td>\n",
              "      <td>306.4</td>\n",
              "      <td>250.422</td>\n",
              "      <td>251.147</td>\n",
              "      <td>452.441</td>\n",
              "      <td>458.165</td>\n",
              "      <td>442.865</td>\n",
              "      <td>446.210</td>\n",
              "      <td>471.411</td>\n",
              "      <td>437.690</td>\n",
              "      <td>427.669</td>\n",
              "      <td>66.91</td>\n",
              "      <td>1.31</td>\n",
              "    </tr>\n",
              "    <tr>\n",
              "      <th>4</th>\n",
              "      <td>2017-03-10 01:00:00</td>\n",
              "      <td>55.2</td>\n",
              "      <td>16.98</td>\n",
              "      <td>3033.69</td>\n",
              "      <td>558.167</td>\n",
              "      <td>400.254</td>\n",
              "      <td>10.0697</td>\n",
              "      <td>1.74</td>\n",
              "      <td>250.203</td>\n",
              "      <td>252.136</td>\n",
              "      <td>249.895</td>\n",
              "      <td>295.096</td>\n",
              "      <td>306.4</td>\n",
              "      <td>249.983</td>\n",
              "      <td>248.928</td>\n",
              "      <td>452.441</td>\n",
              "      <td>452.900</td>\n",
              "      <td>450.523</td>\n",
              "      <td>453.670</td>\n",
              "      <td>462.598</td>\n",
              "      <td>443.682</td>\n",
              "      <td>425.679</td>\n",
              "      <td>66.91</td>\n",
              "      <td>1.31</td>\n",
              "    </tr>\n",
              "  </tbody>\n",
              "</table>\n",
              "</div>"
            ],
            "text/plain": [
              "                 date  % Iron Feed  ...  % Iron Concentrate  % Silica Concentrate\n",
              "0 2017-03-10 01:00:00         55.2  ...               66.91                  1.31\n",
              "1 2017-03-10 01:00:00         55.2  ...               66.91                  1.31\n",
              "2 2017-03-10 01:00:00         55.2  ...               66.91                  1.31\n",
              "3 2017-03-10 01:00:00         55.2  ...               66.91                  1.31\n",
              "4 2017-03-10 01:00:00         55.2  ...               66.91                  1.31\n",
              "\n",
              "[5 rows x 24 columns]"
            ]
          },
          "metadata": {
            "tags": []
          },
          "execution_count": 9
        }
      ]
    },
    {
      "cell_type": "code",
      "metadata": {
        "id": "aZlgjxTKoOi4",
        "colab_type": "code",
        "outputId": "cf061272-d4f1-4368-b2e4-cb50cfd84a7d",
        "colab": {
          "base_uri": "https://localhost:8080/",
          "height": 442
        }
      },
      "source": [
        "data.isna().sum()"
      ],
      "execution_count": 0,
      "outputs": [
        {
          "output_type": "execute_result",
          "data": {
            "text/plain": [
              "date                            0\n",
              "% Iron Feed                     0\n",
              "% Silica Feed                   0\n",
              "Starch Flow                     0\n",
              "Amina Flow                      0\n",
              "Ore Pulp Flow                   0\n",
              "Ore Pulp pH                     0\n",
              "Ore Pulp Density                0\n",
              "Flotation Column 01 Air Flow    0\n",
              "Flotation Column 02 Air Flow    0\n",
              "Flotation Column 03 Air Flow    0\n",
              "Flotation Column 04 Air Flow    0\n",
              "Flotation Column 05 Air Flow    0\n",
              "Flotation Column 06 Air Flow    0\n",
              "Flotation Column 07 Air Flow    0\n",
              "Flotation Column 01 Level       0\n",
              "Flotation Column 02 Level       0\n",
              "Flotation Column 03 Level       0\n",
              "Flotation Column 04 Level       0\n",
              "Flotation Column 05 Level       0\n",
              "Flotation Column 06 Level       0\n",
              "Flotation Column 07 Level       0\n",
              "% Iron Concentrate              0\n",
              "% Silica Concentrate            0\n",
              "dtype: int64"
            ]
          },
          "metadata": {
            "tags": []
          },
          "execution_count": 10
        }
      ]
    },
    {
      "cell_type": "code",
      "metadata": {
        "id": "8RV4yIRNokYJ",
        "colab_type": "code",
        "outputId": "ae581ba9-fff4-464b-c263-849c41a44caf",
        "colab": {
          "base_uri": "https://localhost:8080/",
          "height": 428
        }
      },
      "source": [
        "data = pd.get_dummies(data, prefix='', prefix_sep='')\n",
        "data.tail()"
      ],
      "execution_count": 0,
      "outputs": [
        {
          "output_type": "execute_result",
          "data": {
            "text/html": [
              "<div>\n",
              "<style scoped>\n",
              "    .dataframe tbody tr th:only-of-type {\n",
              "        vertical-align: middle;\n",
              "    }\n",
              "\n",
              "    .dataframe tbody tr th {\n",
              "        vertical-align: top;\n",
              "    }\n",
              "\n",
              "    .dataframe thead th {\n",
              "        text-align: right;\n",
              "    }\n",
              "</style>\n",
              "<table border=\"1\" class=\"dataframe\">\n",
              "  <thead>\n",
              "    <tr style=\"text-align: right;\">\n",
              "      <th></th>\n",
              "      <th>date</th>\n",
              "      <th>% Iron Feed</th>\n",
              "      <th>% Silica Feed</th>\n",
              "      <th>Starch Flow</th>\n",
              "      <th>Amina Flow</th>\n",
              "      <th>Ore Pulp Flow</th>\n",
              "      <th>Ore Pulp pH</th>\n",
              "      <th>Ore Pulp Density</th>\n",
              "      <th>Flotation Column 01 Air Flow</th>\n",
              "      <th>Flotation Column 02 Air Flow</th>\n",
              "      <th>Flotation Column 03 Air Flow</th>\n",
              "      <th>Flotation Column 04 Air Flow</th>\n",
              "      <th>Flotation Column 05 Air Flow</th>\n",
              "      <th>Flotation Column 06 Air Flow</th>\n",
              "      <th>Flotation Column 07 Air Flow</th>\n",
              "      <th>Flotation Column 01 Level</th>\n",
              "      <th>Flotation Column 02 Level</th>\n",
              "      <th>Flotation Column 03 Level</th>\n",
              "      <th>Flotation Column 04 Level</th>\n",
              "      <th>Flotation Column 05 Level</th>\n",
              "      <th>Flotation Column 06 Level</th>\n",
              "      <th>Flotation Column 07 Level</th>\n",
              "      <th>% Iron Concentrate</th>\n",
              "      <th>% Silica Concentrate</th>\n",
              "    </tr>\n",
              "  </thead>\n",
              "  <tbody>\n",
              "    <tr>\n",
              "      <th>737448</th>\n",
              "      <td>2017-09-09 23:00:00</td>\n",
              "      <td>49.75</td>\n",
              "      <td>23.2</td>\n",
              "      <td>2710.94</td>\n",
              "      <td>441.052</td>\n",
              "      <td>386.570</td>\n",
              "      <td>9.62129</td>\n",
              "      <td>1.65365</td>\n",
              "      <td>302.344</td>\n",
              "      <td>298.786</td>\n",
              "      <td>299.163</td>\n",
              "      <td>299.920</td>\n",
              "      <td>299.623</td>\n",
              "      <td>346.794</td>\n",
              "      <td>313.695</td>\n",
              "      <td>392.160</td>\n",
              "      <td>430.702</td>\n",
              "      <td>872.008</td>\n",
              "      <td>418.725</td>\n",
              "      <td>497.548</td>\n",
              "      <td>446.357</td>\n",
              "      <td>416.892</td>\n",
              "      <td>64.27</td>\n",
              "      <td>1.71</td>\n",
              "    </tr>\n",
              "    <tr>\n",
              "      <th>737449</th>\n",
              "      <td>2017-09-09 23:00:00</td>\n",
              "      <td>49.75</td>\n",
              "      <td>23.2</td>\n",
              "      <td>2692.01</td>\n",
              "      <td>473.436</td>\n",
              "      <td>384.939</td>\n",
              "      <td>9.62063</td>\n",
              "      <td>1.65352</td>\n",
              "      <td>303.013</td>\n",
              "      <td>301.879</td>\n",
              "      <td>299.487</td>\n",
              "      <td>299.710</td>\n",
              "      <td>300.465</td>\n",
              "      <td>330.023</td>\n",
              "      <td>236.700</td>\n",
              "      <td>401.505</td>\n",
              "      <td>404.616</td>\n",
              "      <td>864.409</td>\n",
              "      <td>418.377</td>\n",
              "      <td>506.398</td>\n",
              "      <td>372.995</td>\n",
              "      <td>426.337</td>\n",
              "      <td>64.27</td>\n",
              "      <td>1.71</td>\n",
              "    </tr>\n",
              "    <tr>\n",
              "      <th>737450</th>\n",
              "      <td>2017-09-09 23:00:00</td>\n",
              "      <td>49.75</td>\n",
              "      <td>23.2</td>\n",
              "      <td>2692.20</td>\n",
              "      <td>500.488</td>\n",
              "      <td>383.496</td>\n",
              "      <td>9.61874</td>\n",
              "      <td>1.65338</td>\n",
              "      <td>303.662</td>\n",
              "      <td>307.397</td>\n",
              "      <td>299.487</td>\n",
              "      <td>299.927</td>\n",
              "      <td>299.707</td>\n",
              "      <td>329.590</td>\n",
              "      <td>225.879</td>\n",
              "      <td>408.899</td>\n",
              "      <td>399.316</td>\n",
              "      <td>867.598</td>\n",
              "      <td>419.531</td>\n",
              "      <td>503.414</td>\n",
              "      <td>336.035</td>\n",
              "      <td>433.130</td>\n",
              "      <td>64.27</td>\n",
              "      <td>1.71</td>\n",
              "    </tr>\n",
              "    <tr>\n",
              "      <th>737451</th>\n",
              "      <td>2017-09-09 23:00:00</td>\n",
              "      <td>49.75</td>\n",
              "      <td>23.2</td>\n",
              "      <td>1164.12</td>\n",
              "      <td>491.548</td>\n",
              "      <td>384.976</td>\n",
              "      <td>9.61686</td>\n",
              "      <td>1.65324</td>\n",
              "      <td>302.550</td>\n",
              "      <td>301.959</td>\n",
              "      <td>298.045</td>\n",
              "      <td>299.372</td>\n",
              "      <td>298.819</td>\n",
              "      <td>351.453</td>\n",
              "      <td>308.115</td>\n",
              "      <td>405.107</td>\n",
              "      <td>466.832</td>\n",
              "      <td>876.591</td>\n",
              "      <td>407.299</td>\n",
              "      <td>502.301</td>\n",
              "      <td>340.844</td>\n",
              "      <td>433.966</td>\n",
              "      <td>64.27</td>\n",
              "      <td>1.71</td>\n",
              "    </tr>\n",
              "    <tr>\n",
              "      <th>737452</th>\n",
              "      <td>2017-09-09 23:00:00</td>\n",
              "      <td>49.75</td>\n",
              "      <td>23.2</td>\n",
              "      <td>1164.12</td>\n",
              "      <td>468.019</td>\n",
              "      <td>384.801</td>\n",
              "      <td>9.61497</td>\n",
              "      <td>1.65310</td>\n",
              "      <td>300.355</td>\n",
              "      <td>292.865</td>\n",
              "      <td>298.625</td>\n",
              "      <td>298.717</td>\n",
              "      <td>297.395</td>\n",
              "      <td>362.464</td>\n",
              "      <td>308.115</td>\n",
              "      <td>413.754</td>\n",
              "      <td>514.143</td>\n",
              "      <td>881.323</td>\n",
              "      <td>378.969</td>\n",
              "      <td>500.100</td>\n",
              "      <td>374.354</td>\n",
              "      <td>441.182</td>\n",
              "      <td>64.27</td>\n",
              "      <td>1.71</td>\n",
              "    </tr>\n",
              "  </tbody>\n",
              "</table>\n",
              "</div>"
            ],
            "text/plain": [
              "                      date  ...  % Silica Concentrate\n",
              "737448 2017-09-09 23:00:00  ...                  1.71\n",
              "737449 2017-09-09 23:00:00  ...                  1.71\n",
              "737450 2017-09-09 23:00:00  ...                  1.71\n",
              "737451 2017-09-09 23:00:00  ...                  1.71\n",
              "737452 2017-09-09 23:00:00  ...                  1.71\n",
              "\n",
              "[5 rows x 24 columns]"
            ]
          },
          "metadata": {
            "tags": []
          },
          "execution_count": 11
        }
      ]
    },
    {
      "cell_type": "code",
      "metadata": {
        "id": "TYgsv9iOzkEO",
        "colab_type": "code",
        "colab": {}
      },
      "source": [
        "train_data = data.sample(frac=0.8,random_state=0)\n",
        "test_data = data.drop(train_dataset.index)"
      ],
      "execution_count": 0,
      "outputs": []
    }
  ]
}